{
 "cells": [
  {
   "cell_type": "code",
   "execution_count": null,
   "id": "8fd58aef-a29a-45bb-8d46-4bfd05445ad5",
   "metadata": {},
   "outputs": [],
   "source": [
    "Question 1\n",
    "Given an integer array nums of length n and an integer target, find three integers\n",
    "in nums such that the sum is closest to the target.\n",
    "Return the sum of the three integers.\n",
    "\n",
    "You may assume that each input would have exactly one solution.\n",
    "\n",
    "Example 1:\n",
    "Input: nums = [-1,2,1,-4], target = 1\n",
    "Output: 2\n",
    "\n",
    "Explanation: The sum that is closest to the target is 2. (-1 + 2 + 1 = 2).\n",
    "\n",
    "Ans1"
   ]
  },
  {
   "cell_type": "code",
   "execution_count": 1,
   "id": "5ea3e9e9-450e-477e-b72b-1511ba38f3fb",
   "metadata": {},
   "outputs": [],
   "source": [
    "def threeSumClosest(nums, target):\n",
    "    nums.sort()\n",
    "    n = len(nums)\n",
    "    closestSum = float('inf')\n",
    "\n",
    "    for i in range(n - 2):\n",
    "        left = i + 1\n",
    "        right = n - 1\n",
    "\n",
    "        while left < right:\n",
    "            currentSum = nums[i] + nums[left] + nums[right]\n",
    "            if abs(currentSum - target) < abs(closestSum - target):\n",
    "                closestSum = currentSum\n",
    "\n",
    "            if currentSum > target:\n",
    "                right -= 1\n",
    "            elif currentSum < target:\n",
    "                left += 1\n",
    "            else:\n",
    "                return target\n",
    "\n",
    "    return closestSum\n"
   ]
  },
  {
   "cell_type": "code",
   "execution_count": 2,
   "id": "0034b1c1-99ac-417e-a7f2-1de0e31b0114",
   "metadata": {},
   "outputs": [
    {
     "name": "stdout",
     "output_type": "stream",
     "text": [
      "2\n"
     ]
    }
   ],
   "source": [
    "nums = [-1, 2, 1, -4]\n",
    "target = 1\n",
    "result = threeSumClosest(nums, target)\n",
    "print(result)\n"
   ]
  },
  {
   "cell_type": "code",
   "execution_count": null,
   "id": "5fce6097-72a4-461a-a887-b4154df1ba09",
   "metadata": {},
   "outputs": [],
   "source": [
    "Question 2\n",
    "Given an array nums of n integers, return an array of all the unique quadruplets\n",
    "[nums[a], nums[b], nums[c], nums[d]] such that:\n",
    "           ● 0 <= a, b, c, d < n\n",
    "           ● a, b, c, and d are distinct.\n",
    "           ● nums[a] + nums[b] + nums[c] + nums[d] == target\n",
    "\n",
    "You may return the answer in any order.\n",
    "\n",
    "Example 1:\n",
    "Input: nums = [1,0,-1,0,-2,2], target = 0\n",
    "Output: [[-2,-1,1,2],[-2,0,0,2],[-1,0,0,1]]\n",
    "\n",
    "Ans2-"
   ]
  },
  {
   "cell_type": "code",
   "execution_count": 3,
   "id": "1c929051-823e-44ed-9d49-e0fb2bfdc31d",
   "metadata": {},
   "outputs": [],
   "source": [
    "def fourSum(nums, target):\n",
    "    nums.sort()\n",
    "    result = []\n",
    "    n = len(nums)\n",
    "\n",
    "    for i in range(n - 3):\n",
    "        if i > 0 and nums[i] == nums[i - 1]:\n",
    "            continue\n",
    "\n",
    "        for j in range(i + 1, n - 2):\n",
    "            if j > i + 1 and nums[j] == nums[j - 1]:\n",
    "                continue\n",
    "\n",
    "            remaining_sum = target - nums[i] - nums[j]\n",
    "            left = j + 1\n",
    "            right = n - 1\n",
    "\n",
    "            while left < right:\n",
    "                current_sum = nums[i] + nums[j] + nums[left] + nums[right]\n",
    "\n",
    "                if current_sum == target:\n",
    "                    result.append([nums[i], nums[j], nums[left], nums[right]])\n",
    "\n",
    "                    while left < right and nums[left] == nums[left + 1]:\n",
    "                        left += 1\n",
    "                    while left < right and nums[right] == nums[right - 1]:\n",
    "                        right -= 1\n",
    "\n",
    "                    left += 1\n",
    "                    right -= 1\n",
    "                elif current_sum < target:\n",
    "                    left += 1\n",
    "                else:\n",
    "                    right -= 1\n",
    "\n",
    "    return result\n"
   ]
  },
  {
   "cell_type": "code",
   "execution_count": 4,
   "id": "26300011-250e-4789-8cbb-ced63d60e2f7",
   "metadata": {},
   "outputs": [
    {
     "name": "stdout",
     "output_type": "stream",
     "text": [
      "[[-2, -1, 1, 2], [-2, 0, 0, 2], [-1, 0, 0, 1]]\n"
     ]
    }
   ],
   "source": [
    "nums = [1, 0, -1, 0, -2, 2]\n",
    "target = 0\n",
    "print(fourSum(nums, target))\n"
   ]
  },
  {
   "cell_type": "code",
   "execution_count": null,
   "id": "56733730-19da-460f-a4b5-63308e516be0",
   "metadata": {},
   "outputs": [],
   "source": [
    "Question 3**\n",
    "A permutation of an array of integers is an arrangement of its members into a\n",
    "sequence or linear order.\n",
    "\n",
    "For example, for arr = [1,2,3], the following are all the permutations of arr:\n",
    "[1,2,3], [1,3,2], [2, 1, 3], [2, 3, 1], [3,1,2], [3,2,1].\n",
    "\n",
    "The next permutation of an array of integers is the next lexicographically greater\n",
    "permutation of its integer. More formally, if all the permutations of the array are\n",
    "sorted in one container according to their lexicographical order, then the next\n",
    "permutation of that array is the permutation that follows it in the sorted container.\n",
    "\n",
    "If such an arrangement is not possible, the array must be rearranged as the\n",
    "lowest possible order (i.e., sorted in ascending order).\n",
    "\n",
    "● For example, the next permutation of arr = [1,2,3] is [1,3,2].\n",
    "● Similarly, the next permutation of arr = [2,3,1] is [3,1,2].\n",
    "● While the next permutation of arr = [3,2,1] is [1,2,3] because [3,2,1] does not\n",
    "have a lexicographical larger rearrangement.\n",
    "\n",
    "Given an array of integers nums, find the next permutation of nums.\n",
    "The replacement must be in place and use only constant extra memory.\n",
    "\n",
    "**Example 1:**\n",
    "Input: nums = [1,2,3]\n",
    "Output: [1,3,2]\n",
    "\n",
    "Ans3-"
   ]
  },
  {
   "cell_type": "code",
   "execution_count": 5,
   "id": "cbf081a1-2b1f-47f7-8dd8-c03e01a77b57",
   "metadata": {},
   "outputs": [],
   "source": [
    "def nextPermutation(nums):\n",
    "   \n",
    "    i = len(nums) - 2\n",
    "    while i >= 0 and nums[i] >= nums[i+1]:\n",
    "        i -= 1\n",
    "\n",
    "    \n",
    "    if i == -1:\n",
    "        nums.reverse()\n",
    "        return\n",
    "\n",
    "    \n",
    "    j = len(nums) - 1\n",
    "    while j > i and nums[j] <= nums[i]:\n",
    "        j -= 1\n",
    "\n",
    "    \n",
    "    nums[i], nums[j] = nums[j], nums[i]\n",
    "    nums[i+1:] = nums[i+1:][::-1]\n"
   ]
  },
  {
   "cell_type": "code",
   "execution_count": 6,
   "id": "d2b9d533-211d-4fda-a5b8-862a8c32c1dd",
   "metadata": {},
   "outputs": [
    {
     "name": "stdout",
     "output_type": "stream",
     "text": [
      "[1, 3, 2]\n"
     ]
    }
   ],
   "source": [
    "nums = [1, 2, 3]\n",
    "nextPermutation(nums)\n",
    "print(nums)  \n"
   ]
  },
  {
   "cell_type": "code",
   "execution_count": null,
   "id": "0efa30bf-f085-4d2b-a783-7ede1b784bec",
   "metadata": {},
   "outputs": [],
   "source": [
    "Question 4\n",
    "Given a sorted array of distinct integers and a target value, return the index if the\n",
    "target is found. If not, return the index where it would be if it were inserted in\n",
    "order.\n",
    "\n",
    "You must write an algorithm with O(log n) runtime complexity.\n",
    "\n",
    "Example 1:\n",
    "Input: nums = [1,3,5,6], target = 5\n",
    "Output: 2\n",
    "\n",
    "Ans4-"
   ]
  },
  {
   "cell_type": "code",
   "execution_count": 7,
   "id": "843328cc-2007-4168-9613-fe1621b27ac6",
   "metadata": {},
   "outputs": [],
   "source": [
    "def searchInsert(nums, target):\n",
    "    left = 0\n",
    "    right = len(nums) - 1\n",
    "    \n",
    "    while left <= right:\n",
    "        mid = left + (right - left) // 2\n",
    "        \n",
    "        if nums[mid] == target:\n",
    "            return mid\n",
    "        elif nums[mid] < target:\n",
    "            left = mid + 1\n",
    "        else:\n",
    "            right = mid - 1\n",
    "    \n",
    "    return left\n"
   ]
  },
  {
   "cell_type": "code",
   "execution_count": 8,
   "id": "a6769b94-5bec-49e5-a638-88c8f6795122",
   "metadata": {},
   "outputs": [
    {
     "name": "stdout",
     "output_type": "stream",
     "text": [
      "2\n"
     ]
    }
   ],
   "source": [
    "nums = [1, 3, 5, 6]\n",
    "target = 5\n",
    "print(searchInsert(nums, target))\n"
   ]
  },
  {
   "cell_type": "code",
   "execution_count": null,
   "id": "0f887319-c354-48ec-9817-4598be4c767f",
   "metadata": {},
   "outputs": [],
   "source": [
    "*Question 5**\n",
    "You are given a large integer represented as an integer array digits, where each\n",
    "digits[i] is the ith digit of the integer. The digits are ordered from most significant\n",
    "to least significant in left-to-right order. The large integer does not contain any\n",
    "leading 0's.\n",
    "\n",
    "Increment the large integer by one and return the resulting array of digits.\n",
    "\n",
    "**Example 1:**\n",
    "Input: digits = [1,2,3]\n",
    "Output: [1,2,4]\n",
    "\n",
    "**Explanation:** The array represents the integer 123.\n",
    "Incrementing by one gives 123 + 1 = 124.\n",
    "Thus, the result should be [1,2,4].\n",
    "\n",
    "Ans5-\n"
   ]
  },
  {
   "cell_type": "code",
   "execution_count": 9,
   "id": "7b0ba002-8b25-4b66-a369-4dac7a537637",
   "metadata": {},
   "outputs": [],
   "source": [
    "def increment(digits):\n",
    "    carry = 1\n",
    "    for i in range(len(digits) - 1, -1, -1):\n",
    "        digits[i] += carry\n",
    "        if digits[i] < 10:\n",
    "            carry = 0\n",
    "        else:\n",
    "            digits[i] = 0\n",
    "            carry = 1\n",
    "    if carry == 1:\n",
    "        digits.insert(0, 1)\n",
    "    return digits\n"
   ]
  },
  {
   "cell_type": "code",
   "execution_count": 10,
   "id": "762af7f7-e78a-4dda-84f4-ea29a1729fba",
   "metadata": {},
   "outputs": [
    {
     "name": "stdout",
     "output_type": "stream",
     "text": [
      "[1, 2, 4]\n"
     ]
    }
   ],
   "source": [
    "digits = [1, 2, 3]\n",
    "result = increment(digits)\n",
    "print(result)  \n"
   ]
  },
  {
   "cell_type": "code",
   "execution_count": null,
   "id": "3ec3e3be-82d6-4afd-8d78-2c5bfe41ef10",
   "metadata": {},
   "outputs": [],
   "source": [
    "Question 6\n",
    "Given a non-empty array of integers nums, every element appears twice except\n",
    "for one. Find that single one.\n",
    "\n",
    "You must implement a solution with a linear runtime complexity and use only\n",
    "constant extra space.\n",
    "\n",
    "Example 1:\n",
    "Input: nums = [2,2,1]\n",
    "Output: 1\n",
    "\n",
    "Ans6-"
   ]
  },
  {
   "cell_type": "code",
   "execution_count": 11,
   "id": "fb40e939-9009-4918-9355-cc51de8c4cb2",
   "metadata": {},
   "outputs": [],
   "source": [
    "def singleNumber(nums):\n",
    "    result = 0\n",
    "    for num in nums:\n",
    "        result ^= num\n",
    "    return result\n"
   ]
  },
  {
   "cell_type": "code",
   "execution_count": 12,
   "id": "1c2672e5-3c2e-49a9-bb6f-b9c36be59877",
   "metadata": {},
   "outputs": [
    {
     "name": "stdout",
     "output_type": "stream",
     "text": [
      "1\n"
     ]
    }
   ],
   "source": [
    "nums = [2, 2, 1]\n",
    "print(singleNumber(nums))\n"
   ]
  },
  {
   "cell_type": "code",
   "execution_count": null,
   "id": "8183c2e2-4a1a-46ed-b020-b5a1405d210a",
   "metadata": {},
   "outputs": [],
   "source": [
    "Question 7\n",
    "You are given an inclusive range [lower, upper] and a sorted unique integer array\n",
    "nums, where all elements are within the inclusive range.\n",
    "\n",
    "A number x is considered missing if x is in the range [lower, upper] and x is not in\n",
    "nums.\n",
    "\n",
    "Return the shortest sorted list of ranges that exactly covers all the missing\n",
    "numbers. That is, no element of nums is included in any of the ranges, and each\n",
    "missing number is covered by one of the ranges.\n",
    "\n",
    "Example 1:\n",
    "Input: nums = [0,1,3,50,75], lower = 0, upper = 99\n",
    "Output: [[2,2],[4,49],[51,74],[76,99]]\n",
    "\n",
    "Explanation: The ranges are:\n",
    "[2,2]\n",
    "[4,49]\n",
    "[51,74]\n",
    "[76,99]\n",
    "\n",
    "Ans7-"
   ]
  },
  {
   "cell_type": "code",
   "execution_count": 13,
   "id": "8f943c97-569e-4fab-ad7a-3da19e9c6645",
   "metadata": {},
   "outputs": [],
   "source": [
    "def findMissingRanges(nums, lower, upper):\n",
    "    result = []\n",
    "    start = lower\n",
    "\n",
    "    for num in nums:\n",
    "        if num == start:\n",
    "            start += 1\n",
    "        elif num > start:\n",
    "            result.append([start, num - 1])\n",
    "            start = num + 1\n",
    "\n",
    "    if start <= upper:\n",
    "        result.append([start, upper])\n",
    "\n",
    "    return result\n"
   ]
  },
  {
   "cell_type": "code",
   "execution_count": 14,
   "id": "8d5d727e-1e22-497e-aa40-06344b84eb77",
   "metadata": {},
   "outputs": [
    {
     "name": "stdout",
     "output_type": "stream",
     "text": [
      "[[2, 2], [4, 49], [51, 74], [76, 99]]\n"
     ]
    }
   ],
   "source": [
    "nums = [0, 1, 3, 50, 75]\n",
    "lower = 0\n",
    "upper = 99\n",
    "\n",
    "print(findMissingRanges(nums, lower, upper))\n"
   ]
  },
  {
   "cell_type": "code",
   "execution_count": null,
   "id": "4934c165-de79-44a4-94e1-d476f4ba6522",
   "metadata": {},
   "outputs": [],
   "source": [
    "Question 8\n",
    "Given an array of meeting time intervals where intervals[i] = [starti, endi],\n",
    "determine if a person could attend all meetings.\n",
    "\n",
    "Example 1:\n",
    "Input: intervals = [[0,30],[5,10],[15,20]]\n",
    "Output: false\n",
    "Ans8-"
   ]
  },
  {
   "cell_type": "code",
   "execution_count": 15,
   "id": "e23d293f-69a7-42e8-9451-be80523a2d6b",
   "metadata": {},
   "outputs": [
    {
     "name": "stdout",
     "output_type": "stream",
     "text": [
      "False\n"
     ]
    }
   ],
   "source": [
    "def canAttendMeetings(intervals):\n",
    "   \n",
    "    intervals.sort(key=lambda x: x[0])\n",
    "\n",
    "    \n",
    "    for i in range(1, len(intervals)):\n",
    "        if intervals[i][0] < intervals[i-1][1]:\n",
    "            return False\n",
    "\n",
    "    return True\n",
    "\n",
    "\n",
    "intervals = [[0, 30], [5, 10], [15, 20]]\n",
    "print(canAttendMeetings(intervals))\n"
   ]
  },
  {
   "cell_type": "code",
   "execution_count": null,
   "id": "ca7f30b5-ea85-4d45-9372-b7bb64d3e1b7",
   "metadata": {},
   "outputs": [],
   "source": []
  }
 ],
 "metadata": {
  "kernelspec": {
   "display_name": "Python 3 (ipykernel)",
   "language": "python",
   "name": "python3"
  },
  "language_info": {
   "codemirror_mode": {
    "name": "ipython",
    "version": 3
   },
   "file_extension": ".py",
   "mimetype": "text/x-python",
   "name": "python",
   "nbconvert_exporter": "python",
   "pygments_lexer": "ipython3",
   "version": "3.10.8"
  }
 },
 "nbformat": 4,
 "nbformat_minor": 5
}
